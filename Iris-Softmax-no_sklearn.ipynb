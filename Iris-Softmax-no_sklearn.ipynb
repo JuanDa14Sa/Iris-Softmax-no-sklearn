{
 "cells": [
  {
   "cell_type": "code",
   "execution_count": 206,
   "metadata": {},
   "outputs": [],
   "source": [
    "import numpy as np\n",
    "from sklearn import datasets\n",
    "np.random.seed(10)"
   ]
  },
  {
   "cell_type": "code",
   "execution_count": 207,
   "metadata": {},
   "outputs": [
    {
     "data": {
      "text/plain": [
       "array([[1.4, 0.2],\n",
       "       [1.4, 0.2],\n",
       "       [1.3, 0.2],\n",
       "       [1.5, 0.2],\n",
       "       [1.4, 0.2]])"
      ]
     },
     "execution_count": 207,
     "metadata": {},
     "output_type": "execute_result"
    }
   ],
   "source": [
    "iris = datasets.load_iris()\n",
    "X = iris.data[:,(2,3)]\n",
    "y = iris.target.astype(int)\n",
    "\n",
    "X[:5]"
   ]
  },
  {
   "cell_type": "code",
   "execution_count": 208,
   "metadata": {},
   "outputs": [
    {
     "data": {
      "text/plain": [
       "array([[1. , 1.4, 0.2],\n",
       "       [1. , 1.4, 0.2],\n",
       "       [1. , 1.3, 0.2],\n",
       "       [1. , 1.5, 0.2],\n",
       "       [1. , 1.4, 0.2]])"
      ]
     },
     "execution_count": 208,
     "metadata": {},
     "output_type": "execute_result"
    }
   ],
   "source": [
    "X_bias = np.c_[np.ones((len(X),1)),X]\n",
    "num_features = X_bias.shape[1] \n",
    "num_classes = len(np.unique(y))\n",
    "X_bias[:5]"
   ]
  },
  {
   "cell_type": "code",
   "execution_count": 209,
   "metadata": {},
   "outputs": [
    {
     "data": {
      "text/plain": [
       "array([[1. , 4.4, 1.3],\n",
       "       [1. , 5.3, 1.9],\n",
       "       [1. , 1.5, 0.2],\n",
       "       [1. , 4.6, 1.4],\n",
       "       [1. , 1.4, 0.2]])"
      ]
     },
     "execution_count": 209,
     "metadata": {},
     "output_type": "execute_result"
    }
   ],
   "source": [
    "def train_test_val_split(X,y,shuffle=True,test_ratio=0.2,val_ratio=0.2):\n",
    "    size = len(X)\n",
    "    if shuffle:\n",
    "        indexes = np.random.permutation(len(X))\n",
    "    else:\n",
    "        indexes = range(len(X))\n",
    "\n",
    "    test_size = int(size*test_ratio)\n",
    "    val_size = int(test_size*val_ratio)\n",
    "    train_size = size-test_size-val_size\n",
    "\n",
    "    X_train = X[indexes[:train_size]]\n",
    "    y_train = y[indexes[:train_size]]\n",
    "    X_val = X[indexes[train_size:-test_size]]\n",
    "    y_val = y[indexes[train_size:-test_size]]\n",
    "    X_test = X[indexes[-test_size:]]\n",
    "    y_test = y[indexes[-test_size:]]\n",
    "\n",
    "    return X_train,y_train,X_val,y_val,X_test,y_test\n",
    "\n",
    "X_train,y_train,X_val,y_val,X_test,y_test = train_test_val_split(X_bias,y)\n",
    "X_train[:5]"
   ]
  },
  {
   "cell_type": "code",
   "execution_count": 210,
   "metadata": {},
   "outputs": [
    {
     "data": {
      "text/plain": [
       "array([[0., 1., 0.],\n",
       "       [0., 0., 1.],\n",
       "       [1., 0., 0.],\n",
       "       [0., 1., 0.],\n",
       "       [1., 0., 0.]])"
      ]
     },
     "execution_count": 210,
     "metadata": {},
     "output_type": "execute_result"
    }
   ],
   "source": [
    "def hot_encode(y):\n",
    "    num_classes = y.max()+1\n",
    "    m = len(y)\n",
    "    y_hot_encode = np.zeros((m,num_classes))\n",
    "    y_hot_encode[np.arange(m), y] = 1 \n",
    "    return y_hot_encode\n",
    "\n",
    "y_train_encode = hot_encode(y_train)\n",
    "y_test_encode = hot_encode(y_test)\n",
    "y_val_encode = hot_encode(y_val)\n",
    "y_train_encode[:5]"
   ]
  },
  {
   "cell_type": "code",
   "execution_count": 211,
   "metadata": {},
   "outputs": [],
   "source": [
    "def score(X,Theta):\n",
    "    return X.dot(Theta)\n",
    "\n",
    "def softmax_function(scores):\n",
    "    dividend = np.exp(scores)\n",
    "    divisor = np.sum(dividend, axis=1, keepdims=True)\n",
    "    return dividend/divisor\n",
    "\n",
    "def cross_entropy_cost_function(y, probabilities, Theta=None, regularization=None, alpha=0.5):\n",
    "    cross_entropy = -np.mean(np.sum(y_train_encode*np.log(probabilities),axis=1))\n",
    "    if regularization == None:\n",
    "        return cross_entropy\n",
    "    elif regularization == 'l2':\n",
    "        return cross_entropy+alpha*(1/2)*np.sum(np.square(Theta[1:]))\n",
    "    elif regularization == 'l1':\n",
    "        #in progress\n",
    "        return None\n",
    "    else :\n",
    "        raise Exception('Invalid regularization')\n",
    "           \n",
    "def cross_entropy_gradient(X, y, probabilities, regularization=None,Theta=None,alpha=0.5):\n",
    "    m = len(X)\n",
    "    gradient =  (1/m)*X.T.dot(probabilities-y)\n",
    "    if regularization == None:\n",
    "        return gradient\n",
    "    elif regularization == 'l2':\n",
    "        return gradient+ np.r_[np.zeros([1,num_classes]),Theta[1:]]\n",
    "    elif regularization == 'l1':\n",
    "        #in progress\n",
    "        return None\n",
    "    else :\n",
    "        raise Exception('Invalid regularization')"
   ]
  },
  {
   "cell_type": "code",
   "execution_count": 212,
   "metadata": {},
   "outputs": [
    {
     "name": "stdout",
     "output_type": "stream",
     "text": [
      "Iteration # 0      Cost function: 1.7809351823164337\n",
      "Iteration # 500      Cost function: 0.7853082500658067\n",
      "Iteration # 1000      Cost function: 0.662175381833871\n",
      "Iteration # 1500      Cost function: 0.5866044593945988\n",
      "Iteration # 2000      Cost function: 0.535453912319336\n",
      "Iteration # 2500      Cost function: 0.49804949859141173\n",
      "Iteration # 3000      Cost function: 0.46909122544766735\n",
      "Iteration # 3500      Cost function: 0.4457124769766781\n",
      "Iteration # 4000      Cost function: 0.4262389179734997\n",
      "Iteration # 4500      Cost function: 0.40962717736569243\n",
      "Iteration # 5000      Cost function: 0.3951912238521942\n"
     ]
    }
   ],
   "source": [
    "Theta_no_reg = np.random.rand(num_features,num_classes)\n",
    "# epsilon = 1e-6\n",
    "iterations = 5001\n",
    "learning_rate = 0.01\n",
    "\n",
    "for i in range(iterations):\n",
    "    scores = score(X_train,Theta_no_reg)\n",
    "    probabilities = softmax_function(scores)\n",
    "    if i%500 == 0:\n",
    "        print('Iteration #',i,'     Cost function:',cross_entropy_cost_function(y_train_encode,probabilities,Theta_no_reg))\n",
    "    gradient = cross_entropy_gradient(X_train,y_train_encode,probabilities)\n",
    "    Theta_no_reg = Theta_no_reg - learning_rate*gradient\n"
   ]
  },
  {
   "cell_type": "code",
   "execution_count": 213,
   "metadata": {},
   "outputs": [
    {
     "name": "stdout",
     "output_type": "stream",
     "text": [
      "Accuracy: 0.8333333333333334\n"
     ]
    }
   ],
   "source": [
    "def val_score(X_val,y_val,Theta):\n",
    "    scores = score(X_val,Theta)\n",
    "    probabilities = softmax_function(scores)\n",
    "    prediction = np.argmax(probabilities,axis=1)\n",
    "    accuracy = np.mean(prediction == y_val)\n",
    "    print('Accuracy:',accuracy)\n",
    "    return accuracy\n",
    "\n",
    "val_score(X_val,y_val,Theta_no_reg);"
   ]
  },
  {
   "cell_type": "code",
   "execution_count": 214,
   "metadata": {},
   "outputs": [
    {
     "name": "stdout",
     "output_type": "stream",
     "text": [
      "Iteration # 0      Cost function: 2.6975303063912746\n",
      "Iteration # 500      Cost function: 0.7118306310792645\n",
      "Iteration # 1000      Cost function: 0.7087064337437428\n",
      "Iteration # 1500      Cost function: 0.7085883103242511\n",
      "Iteration # 2000      Cost function: 0.7085831391955058\n",
      "Iteration # 2500      Cost function: 0.7085829085955961\n",
      "Iteration # 3000      Cost function: 0.7085828982879022\n",
      "Iteration # 3500      Cost function: 0.7085828978270095\n",
      "Iteration # 4000      Cost function: 0.7085828978064007\n",
      "Iteration # 4500      Cost function: 0.7085828978054791\n",
      "Iteration # 5000      Cost function: 0.7085828978054384\n"
     ]
    }
   ],
   "source": [
    "Theta_l2 = np.random.rand(num_features,num_classes)\n",
    "learning_rate = 0.1\n",
    "alpha = 0.1\n",
    "for i in range(iterations):\n",
    "    scores = score(X_train,Theta_l2)\n",
    "    probabilities = softmax_function(scores)\n",
    "    if i%500 == 0:\n",
    "        print('Iteration #',i,'     Cost function:',cross_entropy_cost_function(y_train_encode,probabilities,Theta_l2,regularization='l2',alpha=alpha))\n",
    "    gradient = cross_entropy_gradient(X=X_train,y=y_train_encode,probabilities=probabilities,regularization='l2',Theta=Theta_l2,alpha=alpha)\n",
    "    Theta_l2 = Theta_l2 - learning_rate*gradient"
   ]
  },
  {
   "cell_type": "code",
   "execution_count": 215,
   "metadata": {},
   "outputs": [
    {
     "name": "stdout",
     "output_type": "stream",
     "text": [
      "Accuracy: 1.0\n"
     ]
    }
   ],
   "source": [
    "val_score(X_val,y_val,Theta_l2);"
   ]
  },
  {
   "cell_type": "code",
   "execution_count": 216,
   "metadata": {},
   "outputs": [
    {
     "name": "stdout",
     "output_type": "stream",
     "text": [
      "Iteration # 0      Cost function: 2.160477466589329\n",
      "Iteration # 500      Cost function: 0.7651802684538609\n",
      "Iteration # 1000      Cost function: 0.7636235368130948\n",
      "Iteration # 1500      Cost function: 0.7635673821223202\n",
      "Iteration # 2000      Cost function: 0.7635649392803262\n",
      "Iteration # 2500      Cost function: 0.7635648304332665\n",
      "Iteration # 3000      Cost function: 0.76356482556838\n",
      "Iteration # 3500      Cost function: 0.7635648253508576\n",
      "Iteration # 4000      Cost function: 0.7635648253411308\n",
      "Early stop!\n",
      "Iteration 4452  Cost function: 0.7085828978054857\n"
     ]
    }
   ],
   "source": [
    "minimum_val_error = float('inf')\n",
    "iterations = 5001\n",
    "learning_rate = 0.1\n",
    "alpha = 0.1\n",
    "\n",
    "Theta_early_stop = np.random.rand(num_features,num_classes)\n",
    "for i in range(iterations):\n",
    "    scores = score(X_train,Theta_early_stop)\n",
    "    probabilities = softmax_function(scores)\n",
    "    loss = cross_entropy_cost_function(y_train_encode,probabilities,\n",
    "            Theta_early_stop,regularization='l2')\n",
    "    if i%500 == 0:\n",
    "        print('Iteration #',i,'     Cost function:',loss)\n",
    "    gradient = cross_entropy_gradient(X=X_train,y=y_train_encode,probabilities=probabilities,\n",
    "                                      regularization='l2',Theta=Theta_early_stop, alpha=alpha)\n",
    "    Theta_early_stop = Theta_early_stop - learning_rate*gradient\n",
    "    loss = cross_entropy_cost_function(y_train_encode,probabilities,Theta_early_stop,regularization='l2', alpha=alpha)\n",
    "\n",
    "    if loss<minimum_val_error:\n",
    "        minimum_val_error = loss\n",
    "    else:\n",
    "        print('Early stop!')\n",
    "        print('Iteration {}  Cost function: {}'.format(i,loss))\n",
    "        break\n",
    "     "
   ]
  },
  {
   "cell_type": "code",
   "execution_count": 217,
   "metadata": {},
   "outputs": [
    {
     "name": "stdout",
     "output_type": "stream",
     "text": [
      "Accuracy: 1.0\n"
     ]
    },
    {
     "data": {
      "text/plain": [
       "1.0"
      ]
     },
     "execution_count": 217,
     "metadata": {},
     "output_type": "execute_result"
    }
   ],
   "source": [
    "val_score(X_val,y_val,Theta_early_stop)"
   ]
  }
 ],
 "metadata": {
  "kernelspec": {
   "display_name": "Python 3.9.13 ('venv': venv)",
   "language": "python",
   "name": "python3"
  },
  "language_info": {
   "codemirror_mode": {
    "name": "ipython",
    "version": 3
   },
   "file_extension": ".py",
   "mimetype": "text/x-python",
   "name": "python",
   "nbconvert_exporter": "python",
   "pygments_lexer": "ipython3",
   "version": "3.9.13"
  },
  "orig_nbformat": 4,
  "vscode": {
   "interpreter": {
    "hash": "6da2dd8509d2139d132b9c9e65caeab6cdcae61866d81a392c57c7743288e0c9"
   }
  }
 },
 "nbformat": 4,
 "nbformat_minor": 2
}
